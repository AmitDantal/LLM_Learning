{
 "cells": [
  {
   "cell_type": "code",
   "execution_count": 1,
   "id": "9ff5bd3c",
   "metadata": {},
   "outputs": [
    {
     "name": "stdout",
     "output_type": "stream",
     "text": [
      "hello World\n"
     ]
    }
   ],
   "source": [
    "print(\"hello World\")"
   ]
  },
  {
   "cell_type": "code",
   "execution_count": 2,
   "id": "74492d9c",
   "metadata": {},
   "outputs": [
    {
     "name": "stdout",
     "output_type": "stream",
     "text": [
      "Amit 22 True\n"
     ]
    }
   ],
   "source": [
    "name= \"Amit\"\n",
    "Age= \"22\"\n",
    "is_student= True\n",
    "\n",
    "print(name,Age,is_student)"
   ]
  },
  {
   "cell_type": "code",
   "execution_count": 4,
   "id": "0504acdd",
   "metadata": {},
   "outputs": [
    {
     "name": "stdout",
     "output_type": "stream",
     "text": [
      "10 10.45 python False\n",
      "<class 'int'> <class 'float'> <class 'str'> <class 'bool'>\n"
     ]
    }
   ],
   "source": [
    "a= 10\n",
    "b= 10.45\n",
    "c= \"python\"\n",
    "flag= False\n",
    "print(a,b,c,flag)\n",
    "print(type(a),type(b),type(c),type(flag))"
   ]
  },
  {
   "cell_type": "code",
   "execution_count": 6,
   "id": "fc51b3e4",
   "metadata": {},
   "outputs": [
    {
     "name": "stdout",
     "output_type": "stream",
     "text": [
      "My name is Amit My age is 22 and I am studying in M.Tech CSE\n"
     ]
    }
   ],
   "source": [
    "name = \"Amit\"\n",
    "Age = \"22\"\n",
    "course= \"M.Tech CSE\"\n",
    "print(\"My name is\",name,\"My age is\",Age,\"and I am studying in\",course)"
   ]
  },
  {
   "cell_type": "code",
   "execution_count": 7,
   "id": "1ad10f11",
   "metadata": {},
   "outputs": [
    {
     "name": "stdout",
     "output_type": "stream",
     "text": [
      "<class 'str'>\n",
      "<class 'int'>\n"
     ]
    }
   ],
   "source": [
    "age = \"22\"\n",
    "print(type(age))        # <class 'str'>\n",
    "age = int(age)          # Convert to integer\n",
    "print(type(age))        # <class 'int'>\n"
   ]
  },
  {
   "cell_type": "code",
   "execution_count": 9,
   "id": "0fcc49bb",
   "metadata": {},
   "outputs": [
    {
     "name": "stdout",
     "output_type": "stream",
     "text": [
      "27\n"
     ]
    }
   ],
   "source": [
    "age= \"22\"\n",
    "age = int(age)\n",
    "age = age + 5\n",
    "print (age)"
   ]
  },
  {
   "cell_type": "code",
   "execution_count": 11,
   "id": "0f32a13d",
   "metadata": {},
   "outputs": [
    {
     "name": "stdout",
     "output_type": "stream",
     "text": [
      "15\n",
      "5\n",
      "50\n",
      "2.0\n",
      "2\n",
      "0\n",
      "100000\n"
     ]
    }
   ],
   "source": [
    "x= 10\n",
    "y= 5\n",
    "\n",
    "print(x+y)\n",
    "print(x-y)\n",
    "print(x*y)\n",
    "print(x/y)\n",
    "print(x//y) #Floor Division (//) – divides and returns integer part only.\n",
    "print(x%y)\n",
    "print(x**y)"
   ]
  },
  {
   "cell_type": "code",
   "execution_count": 13,
   "id": "9532fe24",
   "metadata": {},
   "outputs": [
    {
     "name": "stdout",
     "output_type": "stream",
     "text": [
      "15\n",
      "12\n",
      "48\n",
      "24.0\n",
      "8.0\n",
      "0.0\n",
      "0.0\n"
     ]
    }
   ],
   "source": [
    "x=10\n",
    "x += 5\n",
    "print(x)\n",
    "x-=3\n",
    "print(x)\n",
    "x*=4\n",
    "print(x)\n",
    "x/=2\n",
    "print(x)\n",
    "x//=3\n",
    "print(x)\n",
    "x%=4\n",
    "print(x)\n",
    "x**=3\n",
    "print(x)"
   ]
  },
  {
   "cell_type": "code",
   "execution_count": null,
   "id": "4037c6bb",
   "metadata": {},
   "outputs": [],
   "source": []
  }
 ],
 "metadata": {
  "kernelspec": {
   "display_name": "Python 3",
   "language": "python",
   "name": "python3"
  },
  "language_info": {
   "codemirror_mode": {
    "name": "ipython",
    "version": 3
   },
   "file_extension": ".py",
   "mimetype": "text/x-python",
   "name": "python",
   "nbconvert_exporter": "python",
   "pygments_lexer": "ipython3",
   "version": "3.10.4"
  }
 },
 "nbformat": 4,
 "nbformat_minor": 5
}
