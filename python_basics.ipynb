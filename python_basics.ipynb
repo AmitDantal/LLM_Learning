{
 "cells": [
  {
   "cell_type": "code",
   "execution_count": 1,
   "id": "9ff5bd3c",
   "metadata": {},
   "outputs": [
    {
     "name": "stdout",
     "output_type": "stream",
     "text": [
      "hello World\n"
     ]
    }
   ],
   "source": [
    "print(\"hello World\")"
   ]
  },
  {
   "cell_type": "code",
   "execution_count": 2,
   "id": "74492d9c",
   "metadata": {},
   "outputs": [
    {
     "name": "stdout",
     "output_type": "stream",
     "text": [
      "Amit 22 True\n"
     ]
    }
   ],
   "source": [
    "name= \"Amit\"\n",
    "Age= \"22\"\n",
    "is_student= True\n",
    "\n",
    "print(name,Age,is_student)"
   ]
  },
  {
   "cell_type": "code",
   "execution_count": 4,
   "id": "0504acdd",
   "metadata": {},
   "outputs": [
    {
     "name": "stdout",
     "output_type": "stream",
     "text": [
      "10 10.45 python False\n",
      "<class 'int'> <class 'float'> <class 'str'> <class 'bool'>\n"
     ]
    }
   ],
   "source": [
    "a= 10\n",
    "b= 10.45\n",
    "c= \"python\"\n",
    "flag= False\n",
    "print(a,b,c,flag)\n",
    "print(type(a),type(b),type(c),type(flag))"
   ]
  },
  {
   "cell_type": "code",
   "execution_count": 6,
   "id": "fc51b3e4",
   "metadata": {},
   "outputs": [
    {
     "name": "stdout",
     "output_type": "stream",
     "text": [
      "My name is Amit My age is 22 and I am studying in M.Tech CSE\n"
     ]
    }
   ],
   "source": [
    "name = \"Amit\"\n",
    "Age = \"22\"\n",
    "course= \"M.Tech CSE\"\n",
    "print(\"My name is\",name,\"My age is\",Age,\"and I am studying in\",course)"
   ]
  },
  {
   "cell_type": "code",
   "execution_count": 7,
   "id": "1ad10f11",
   "metadata": {},
   "outputs": [
    {
     "name": "stdout",
     "output_type": "stream",
     "text": [
      "<class 'str'>\n",
      "<class 'int'>\n"
     ]
    }
   ],
   "source": [
    "age = \"22\"\n",
    "print(type(age))        # <class 'str'>\n",
    "age = int(age)          # Convert to integer\n",
    "print(type(age))        # <class 'int'>\n"
   ]
  },
  {
   "cell_type": "code",
   "execution_count": 9,
   "id": "0fcc49bb",
   "metadata": {},
   "outputs": [
    {
     "name": "stdout",
     "output_type": "stream",
     "text": [
      "27\n"
     ]
    }
   ],
   "source": [
    "age= \"22\"\n",
    "age = int(age)\n",
    "age = age + 5\n",
    "print (age)"
   ]
  },
  {
   "cell_type": "code",
   "execution_count": 11,
   "id": "0f32a13d",
   "metadata": {},
   "outputs": [
    {
     "name": "stdout",
     "output_type": "stream",
     "text": [
      "15\n",
      "5\n",
      "50\n",
      "2.0\n",
      "2\n",
      "0\n",
      "100000\n"
     ]
    }
   ],
   "source": [
    "x= 10\n",
    "y= 5\n",
    "\n",
    "print(x+y)\n",
    "print(x-y)\n",
    "print(x*y)\n",
    "print(x/y)\n",
    "print(x//y) #Floor Division (//) – divides and returns integer part only.\n",
    "print(x%y)\n",
    "print(x**y)"
   ]
  },
  {
   "cell_type": "code",
   "execution_count": 13,
   "id": "9532fe24",
   "metadata": {},
   "outputs": [
    {
     "name": "stdout",
     "output_type": "stream",
     "text": [
      "15\n",
      "12\n",
      "48\n",
      "24.0\n",
      "8.0\n",
      "0.0\n",
      "0.0\n"
     ]
    }
   ],
   "source": [
    "x=10\n",
    "x += 5\n",
    "print(x)\n",
    "x-=3\n",
    "print(x)\n",
    "x*=4\n",
    "print(x)\n",
    "x/=2\n",
    "print(x)\n",
    "x//=3\n",
    "print(x)\n",
    "x%=4\n",
    "print(x)\n",
    "x**=3\n",
    "print(x)"
   ]
  },
  {
   "cell_type": "code",
   "execution_count": 14,
   "id": "4037c6bb",
   "metadata": {},
   "outputs": [
    {
     "name": "stdout",
     "output_type": "stream",
     "text": [
      "32\n"
     ]
    }
   ],
   "source": [
    "#Task1\n",
    "age =\"22\"\n",
    "age = int(age)\n",
    "print(age+10)"
   ]
  },
  {
   "cell_type": "code",
   "execution_count": null,
   "id": "f4f0e84f",
   "metadata": {},
   "outputs": [
    {
     "name": "stdout",
     "output_type": "stream",
     "text": [
      "725\n"
     ]
    }
   ],
   "source": [
    "#task2\n",
    "wallet=1000\n",
    "buy=275\n",
    "wallet-= buy\n",
    "print(wallet)"
   ]
  },
  {
   "cell_type": "code",
   "execution_count": 20,
   "id": "d36d87d4",
   "metadata": {},
   "outputs": [
    {
     "name": "stdout",
     "output_type": "stream",
     "text": [
      "40\n",
      "55%6= 1\n",
      "81\n"
     ]
    }
   ],
   "source": [
    "#task3\n",
    "num=5\n",
    "num*=8\n",
    "print(num)\n",
    "\n",
    "#task4\n",
    "print(\"55%6=\",55%6)\n",
    "\n",
    "#task5\n",
    "x=3\n",
    "x**=4\n",
    "print(x)"
   ]
  },
  {
   "cell_type": "code",
   "execution_count": 21,
   "id": "796f3dbd",
   "metadata": {},
   "outputs": [
    {
     "name": "stdout",
     "output_type": "stream",
     "text": [
      "15 10\n"
     ]
    }
   ],
   "source": [
    "#swap\n",
    "a=10\n",
    "b=15\n",
    "tmp= a\n",
    "a=b\n",
    "b= tmp\n",
    "print(a,b)"
   ]
  },
  {
   "cell_type": "code",
   "execution_count": 22,
   "id": "d446321b",
   "metadata": {},
   "outputs": [
    {
     "name": "stdout",
     "output_type": "stream",
     "text": [
      "20.0\n"
     ]
    }
   ],
   "source": [
    "#avg\n",
    "a=10\n",
    "b=20\n",
    "c=30\n",
    "\n",
    "sum=a+b+c\n",
    "avg=sum/3\n",
    "print(avg)\n"
   ]
  },
  {
   "cell_type": "code",
   "execution_count": null,
   "id": "9dd2c198",
   "metadata": {},
   "outputs": [
    {
     "name": "stdout",
     "output_type": "stream",
     "text": [
      "98.60000000000001\n"
     ]
    }
   ],
   "source": [
    "#teprature \n",
    "c= 37\n",
    "f=9/5*c+32\n",
    "print(f)"
   ]
  },
  {
   "cell_type": "code",
   "execution_count": 30,
   "id": "18b1d741",
   "metadata": {},
   "outputs": [
    {
     "name": "stdout",
     "output_type": "stream",
     "text": [
      "Grade B\n"
     ]
    }
   ],
   "source": [
    "#conditional statement\n",
    "marks= 80\n",
    "if marks>= 90:\n",
    "    print(\"Grade A\")\n",
    "elif marks>= 75:\n",
    "    print(\"Grade B\")\n",
    "elif marks >=50:\n",
    "    print(\"Grade c\")\n",
    "else:\n",
    "    print(\"Fail\")"
   ]
  },
  {
   "cell_type": "code",
   "execution_count": null,
   "id": "bdbe7233",
   "metadata": {},
   "outputs": [
    {
     "name": "stdout",
     "output_type": "stream",
     "text": [
      "Odd number\n"
     ]
    }
   ],
   "source": [
    "#even odd\n",
    "a= 9\n",
    "if a % 2 == 0:\n",
    "    print(\"its an even number\")\n",
    "else:\n",
    "    print(\"Odd number\")\n"
   ]
  },
  {
   "cell_type": "code",
   "execution_count": 13,
   "id": "9461b71d",
   "metadata": {},
   "outputs": [
    {
     "name": "stdout",
     "output_type": "stream",
     "text": [
      "b is greater\n"
     ]
    }
   ],
   "source": [
    "#max of 3 numbers\n",
    "a=100\n",
    "b=500\n",
    "c=89\n",
    "\n",
    "if a>b:\n",
    "    print(\"a is greater\")\n",
    "elif b>c:\n",
    "    print(\"b is greater\")\n",
    "elif c>a :\n",
    "    print(\"c is greater\")"
   ]
  },
  {
   "cell_type": "code",
   "execution_count": 1,
   "id": "d67487d9",
   "metadata": {},
   "outputs": [
    {
     "name": "stdout",
     "output_type": "stream",
     "text": [
      "1\n",
      "2\n",
      "3\n",
      "4\n",
      "5\n",
      "6\n",
      "7\n",
      "8\n",
      "9\n"
     ]
    }
   ],
   "source": [
    "# loops\n",
    "for i in range (1,10):\n",
    "    print(i)"
   ]
  },
  {
   "cell_type": "code",
   "execution_count": null,
   "id": "46f7b1cc",
   "metadata": {},
   "outputs": [
    {
     "name": "stdout",
     "output_type": "stream",
     "text": [
      "10\n",
      "20\n",
      "30\n"
     ]
    }
   ],
   "source": [
    "# loops for lists and tuples\n",
    "for x in [10,20,30]:\n",
    "    print(x)"
   ]
  },
  {
   "cell_type": "code",
   "execution_count": 3,
   "id": "4c322c1c",
   "metadata": {},
   "outputs": [
    {
     "name": "stdout",
     "output_type": "stream",
     "text": [
      "1\n",
      "2\n",
      "3\n",
      "4\n",
      "5\n"
     ]
    }
   ],
   "source": [
    "num=[1,2,3,4,5]\n",
    "for i in num:\n",
    "    print(i)"
   ]
  },
  {
   "cell_type": "code",
   "execution_count": null,
   "id": "e6024235",
   "metadata": {},
   "outputs": [
    {
     "name": "stdout",
     "output_type": "stream",
     "text": [
      "p\n",
      "y\n",
      "t\n",
      "h\n",
      "o\n",
      "n\n",
      "a\n",
      "m\n",
      "i\n",
      "t\n"
     ]
    }
   ],
   "source": [
    "#loop for string (to print a single character from string )\n",
    "for ch in \"python\":\n",
    "    print(ch)\n",
    "\n",
    "a= \"amit\"\n",
    "for i in a:\n",
    "    print(i)"
   ]
  },
  {
   "cell_type": "code",
   "execution_count": 12,
   "id": "8ed7b165",
   "metadata": {},
   "outputs": [
    {
     "name": "stdout",
     "output_type": "stream",
     "text": [
      "a 1\n",
      "b 2\n",
      "a 1\n",
      "b 2\n"
     ]
    }
   ],
   "source": [
    "#Dictionary\n",
    "d= {\"a\":1,\"b\":2}\n",
    "\n",
    "for key in d:\n",
    "    print(key,d[key])\n",
    "\n",
    "for key, val in d.items():\n",
    "    print(key,val)\n"
   ]
  },
  {
   "cell_type": "code",
   "execution_count": null,
   "id": "9e534a63",
   "metadata": {},
   "outputs": [
    {
     "name": "stdout",
     "output_type": "stream",
     "text": [
      "0\n",
      "1\n",
      "2\n",
      "3\n",
      "4\n",
      "1\n",
      "2\n",
      "3\n",
      "4\n",
      "5\n",
      "1\n",
      "3\n",
      "5\n",
      "7\n",
      "9\n",
      "10\n",
      "8\n",
      "6\n",
      "4\n",
      "2\n"
     ]
    }
   ],
   "source": [
    "# range (start, stop, step)\n",
    "for i in range (5):\n",
    "    print(i)\n",
    "\n",
    "for i in range (1,6):\n",
    "    print(i)\n",
    "\n",
    "for i in range (1,10,2):\n",
    "    print(i)\n",
    "\n",
    "for i in range(10,0,-2):\n",
    "    print(i)"
   ]
  },
  {
   "cell_type": "code",
   "execution_count": 15,
   "id": "6a54fd00",
   "metadata": {},
   "outputs": [
    {
     "name": "stdout",
     "output_type": "stream",
     "text": [
      "1 amit\n",
      "2 Shree\n",
      "3 vaibhav\n"
     ]
    }
   ],
   "source": [
    "#enumarate() get index+value\n",
    "names=[\"amit\",\"Shree\",\"vaibhav\"]\n",
    "\n",
    "for idx, name in enumerate(names, start=1):\n",
    "    print(idx,name)"
   ]
  },
  {
   "cell_type": "code",
   "execution_count": 18,
   "id": "48636012",
   "metadata": {},
   "outputs": [
    {
     "name": "stdout",
     "output_type": "stream",
     "text": [
      "1 5\n",
      "2 6\n",
      "3 7\n",
      "4 8\n",
      "hi\n",
      "hi\n"
     ]
    }
   ],
   "source": [
    "#zip() iterate in parallel\n",
    "a=(1,2,3,4)\n",
    "b=(5,6,7,8)\n",
    "\n",
    "for x,y in zip(a,b):\n",
    "    print(x,y)\n",
    "\n",
    "#without loop variable\n",
    "for _ in range (2):\n",
    "    print(\"hi\")"
   ]
  },
  {
   "cell_type": "code",
   "execution_count": 20,
   "id": "81b0f617",
   "metadata": {},
   "outputs": [
    {
     "name": "stdout",
     "output_type": "stream",
     "text": [
      "5\n",
      "4\n",
      "3\n",
      "2\n",
      "1\n"
     ]
    }
   ],
   "source": [
    "# while loops\n",
    "count = 5\n",
    "while count>0:\n",
    "    print(count)\n",
    "    count-= 1"
   ]
  },
  {
   "cell_type": "code",
   "execution_count": 21,
   "id": "c1884847",
   "metadata": {},
   "outputs": [
    {
     "name": "stdout",
     "output_type": "stream",
     "text": [
      "Found even: 8\n",
      "2\n",
      "4\n"
     ]
    }
   ],
   "source": [
    "#Loop control: break, continue, pass\n",
    "#break: exit the loop immediately\n",
    "#continue: skip the rest of this iteration and go to next\n",
    "#pass: do nothing (placeholder)\n",
    "# break example: stop at first even number\n",
    "for n in [3, 7, 8, 11]:\n",
    "    if n % 2 == 0:\n",
    "        print(\"Found even:\", n)\n",
    "        break\n",
    "\n",
    "# continue example: skip odds\n",
    "for n in range(1, 6):\n",
    "    if n % 2 != 0:\n",
    "        continue\n",
    "    print(n)  # 2, 4\n",
    "\n",
    "# pass example: fill later\n",
    "for _ in range(3):\n",
    "    pass\n"
   ]
  },
  {
   "cell_type": "code",
   "execution_count": null,
   "id": "d2574d91",
   "metadata": {},
   "outputs": [],
   "source": []
  }
 ],
 "metadata": {
  "kernelspec": {
   "display_name": "Python 3",
   "language": "python",
   "name": "python3"
  },
  "language_info": {
   "codemirror_mode": {
    "name": "ipython",
    "version": 3
   },
   "file_extension": ".py",
   "mimetype": "text/x-python",
   "name": "python",
   "nbconvert_exporter": "python",
   "pygments_lexer": "ipython3",
   "version": "3.10.4"
  }
 },
 "nbformat": 4,
 "nbformat_minor": 5
}
